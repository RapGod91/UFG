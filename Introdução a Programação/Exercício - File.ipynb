{
 "cells": [
  {
   "cell_type": "markdown",
   "id": "a7ffc6b9-121e-4490-abc2-934db3c5ec77",
   "metadata": {},
   "source": [
    "<h1>Tarefa 3: Arquivos</h1>\n",
    "\n",
    "Aluno:\n",
    "Raphael Rodrigues Silva\n",
    "\n",
    "**Questão 1. Noções básicas de arquivos: leitura e escrita**\n",
    "Este problema lhe dará alguma prática com os conceitos básicos de leitura e escrita de arquivos de texto em Python.\n",
    "\n",
    "1) Escreva uma função reverse_lines, chamada reverse_lines(infile, outfile), onde infile e outfile são strings especificando nomes de arquivo. Chamar reverse_lines(infile, outfile) deve sobrescrever outfile para que seja uma cópia de infile, exceto que cada linha de infile é invertida. Então, por exemplo, se o arquivo infile tem o conteúdo:\n",
    "\n",
    "hello\n",
    "tacocat\n",
    "1 2 3 4 5\n",
    "então o arquivo outfile deve ser:\n",
    "olleh\n",
    "tacocat\n",
    "5 4 3 2 1"
   ]
  },
  {
   "cell_type": "code",
   "execution_count": 9,
   "id": "06cbc6cb-3ecc-46d8-9cbc-260744615802",
   "metadata": {},
   "outputs": [],
   "source": [
    "def reverse_string(s):\n",
    "    return s[::-1]\n",
    "\n",
    "def reverse_lines(infile, outfile):\n",
    "    if not isinstance(infile, str) or not isinstance(outfile, str):\n",
    "        raise ValueError(\"Não são strings!\")\n",
    "\n",
    "    try:\n",
    "        with open(infile, 'r') as fin, open(outfile, 'w') as fout:\n",
    "            for line in fin:\n",
    "                fout.write(reverse_string(line.rstrip()) + '\\n')\n",
    "    except IOError as e:\n",
    "        print(f\"Erro ao acessar os arquivos: {e}\")\n",
    "\n",
    "infile = \"entrada.txt\"\n",
    "outfile = \"saida.txt\"\n",
    "\n",
    "reverse_lines(infile, outfile)"
   ]
  },
  {
   "cell_type": "markdown",
   "id": "178a3b8c-5ac7-4609-bd3c-0e32096de1db",
   "metadata": {},
   "source": [
    "2) Há pelo menos duas maneiras de implementar reverse_lines:\n",
    "• Opção 1: Abra infile para leitura e outfile para escrita. Leia as linhas de infile uma de cada vez e salve-as nas entradas de uma lista, digamos, line_list. Então, quando terminarmos de ler infile, itere sobre as entradas de line_list, revertendo cada uma e gravando-as em outfile.\n",
    "• Opção 2: Abra infile para leitura e outfile para escrita. Leia as linhas de infile uma de cada vez e, cada vez que lermos uma linha, inverta-a e grave-a em outfile imediatamente.\n",
    "\n",
    "Há pelo menos um bom motivo para preferir a Opção 2 em vez da Opção 1. Qual é esse motivo?"
   ]
  },
  {
   "cell_type": "code",
   "execution_count": null,
   "id": "28552757-5ef9-46bb-b120-4f40a2116dc8",
   "metadata": {},
   "outputs": [],
   "source": [
    "def revlines_storage(infile, outfile):\n",
    "    with open(infile, 'r') as fin:\n",
    "        lines = fin.readlines()\n",
    "\n",
    "    with open(outfile, 'w') as fout:\n",
    "        for line in lines:\n",
    "            fout.write(reverse_string(line.rstrip()) + '\\n')\n",
    "\n",
    "def revlines_direct(infile, outfile):\n",
    "    with open(infile, 'r') as fin, open(outfile, 'w') as fout:\n",
    "        for line in fin:\n",
    "            fout.write(reverse_string(line.rstrip()) + '\\n')\n",
    "            \n",
    "# Na função revlines_storage são armazendas todas as linhas, antes de processar.\n",
    "# Na revlines_direct processa uma ilnha de cada vez, imediatamente, economizando memória."
   ]
  },
  {
   "cell_type": "markdown",
   "id": "90b03b50-eb22-45cb-b67e-9ea1b69446cd",
   "metadata": {},
   "source": [
    "3) Para comparar revlines_direct e revlines_storage, precisamos de um arquivo para testar. Escreva uma função generate_test_file que receba três argumentos: uma string filename, um inteiro não negativo nlines e outro inteiro não negativo nchars, nessa ordem. Sua função deve abrir filename\n",
    "para escrita e escrever nlines linhas de texto, com cada linha contendo nchars caracteres, cada um escolhido uniformemente ao acaso das letras minúsculas (a,b,c,...,z). Sua função deve gerar um erro apropriado no caso de filename não ser uma string, ou no caso de nlines ou nchars não ser um inteiro não negativo. Dica: você pode escolher um inteiro aleatório em um intervalo dado usando a função randint no módulo random1. Então você pode usar esse inteiro aleatório para indexar em string. ascii_lowercase, que é uma string que consiste nas letras minúsculas do alfabeto."
   ]
  },
  {
   "cell_type": "code",
   "execution_count": 13,
   "id": "ab6c391f-aaa9-4f56-8f23-efe62827ea7f",
   "metadata": {},
   "outputs": [],
   "source": [
    "import random\n",
    "import string\n",
    "\n",
    "def generate_test_file(filename, nlines, nchars):\n",
    "    if not isinstance(filename, str):\n",
    "        raise ValueError(\"Nome do arquivo deve ser uma string.\")\n",
    "    if not isinstance(nlines, int) or nlines < 0:\n",
    "        raise ValueError(\"Número de linhas deve ser inteiro e não negativo.\")\n",
    "    if not isinstance(nchars, int) or nchars < 0:\n",
    "        raise ValueError(\"Número de caracteres deve ser inteiro e não negativo.\")\n",
    "\n",
    "    with open(filename, 'w') as f:\n",
    "        for _ in range(nlines):\n",
    "            line = ''.join(random.choices(string.ascii_lowercase, k=nchars))\n",
    "            f.write(line + '\\n')\n"
   ]
  },
  {
   "cell_type": "markdown",
   "id": "a92527d3-9d34-4303-bb3f-05526ec29ded",
   "metadata": {},
   "source": [
    "4) Agora, vamos usar o módulo de tempo do Python para comparar a rapidez de revlines_direct e revlines_storage. Escreva uma função chamada time_trial que recebe dois inteiros não negativos, nlines e nchars, como seus argumentos, e retorna uma 2-tuple de floats. Sua função deve:\n",
    "\n",
    "(a) Usar generate_test_file para gerar um arquivo de teste de nlines linhas de texto, cada uma contendo nchars caracteres aleatórios.\n",
    "(b) Executar revlines_storage no arquivo de teste, usando o módulo de tempo do Python para medir quanto tempo o programa levou.\n",
    "(c) Executar revlines_direct no arquivo de teste, usando o módulo de tempo do Python para medir quanto tempo o programa levou.\n",
    "(d) Retornar uma tupla (t1, t2) onde t1 é um float representando o número de segundos que levou para executar revlines_storage no arquivo de teste e t2 é um float representando o número de segundos que levou para executar revlines_direct no arquivo de teste."
   ]
  },
  {
   "cell_type": "code",
   "execution_count": 49,
   "id": "2ca538bd-77ac-4350-9c84-653462c84ed6",
   "metadata": {},
   "outputs": [],
   "source": [
    "import os\n",
    "import random\n",
    "import string\n",
    "import time\n",
    "\n",
    "def generate_test_file(filename, nlines, nchars):\n",
    "    if not isinstance(filename, str):\n",
    "        raise ValueError(\"O nome do arquivo deve ser uma string.\")\n",
    "    if not isinstance(nlines, int) or nlines < 0:\n",
    "        raise ValueError(\"O número de linhas deve ser um inteiro não negativo.\")\n",
    "    if not isinstance(nchars, int) or nchars < 0:\n",
    "        raise ValueError(\"O número de caracteres deve ser um inteiro não negativo.\")\n",
    "\n",
    "    dir_name = os.path.dirname(filename)\n",
    "    if dir_name:\n",
    "        os.makedirs(dir_name, exist_ok=True)\n",
    "\n",
    "    with open(filename, 'w') as f:\n",
    "        for _ in range(nlines):\n",
    "            line = ''.join(random.choices(string.ascii_lowercase, k=nchars))\n",
    "            f.write(line + '\\n')\n",
    "\n",
    "def revlines_storage(infile, outfile):\n",
    "    with open(infile, 'r') as fin:\n",
    "        lines = fin.readlines()\n",
    "\n",
    "    with open(outfile, 'w') as fout:\n",
    "        for line in lines:\n",
    "            fout.write(reverse_string(line.rstrip()) + '\\n')\n",
    "\n",
    "def revlines_direct(infile, outfile):\n",
    "    with open(infile, 'r') as fin, open(outfile, 'w') as fout:\n",
    "        for line in fin:\n",
    "            fout.write(reverse_string(line.rstrip()) + '\\n')\n",
    "\n",
    "def time_trial(nlines, nchars):\n",
    "    test_file = os.path.join(\"arquivos\", \"test_file.txt\")\n",
    "    outfile1 = os.path.join(\"arquivos\", \"out1.txt\")\n",
    "    outfile2 = os.path.join(\"arquivos\", \"out2.txt\")\n",
    "\n",
    "    generate_test_file(test_file, nlines, nchars)\n",
    "\n",
    "    start_time = time.time()\n",
    "    revlines_storage(test_file, outfile1)\n",
    "    t1 = time.time() - start_time\n",
    "\n",
    "    start_time = time.time()\n",
    "    revlines_direct(test_file, outfile2)\n",
    "    t2 = time.time() - start_time\n",
    "\n",
    "    return (t1, t2)"
   ]
  },
  {
   "cell_type": "markdown",
   "id": "4fb9d4a4-e974-4394-8beb-6449b77d75a7",
   "metadata": {},
   "source": [
    "5) Use time_trial para comparar os tempos de execução de revlines_storage e revlines_direct. Ao escolher valores adequados de nlines e nchars, você deve ser capaz de ver uma diferença notável entre os dois tempos de execução. O que você acha que explicaria essa diferença? Nota: não há necessidade de fazer um gráfico ou algo assim para isso. Basta executar o programa para algumas escolhas diferentes de argumentos, descrever a diferença que você vê e tentar explicar a diferença.\n",
    "Nota também: você pode precisar definir os argumentos para serem bem grandes antes de ver uma diferença entre os dois métodos diferentes, especialmente em máquinas mais novas e rápidas ou se você tiver muitos outros processos em execução no seu computador (por exemplo, muitas guias do navegador abertas)."
   ]
  },
  {
   "cell_type": "code",
   "execution_count": 53,
   "id": "c1f8c721-2903-4fef-8f9d-4974b14321b6",
   "metadata": {},
   "outputs": [
    {
     "name": "stdout",
     "output_type": "stream",
     "text": [
      "(0.06384706497192383, 0.06922054290771484)\n"
     ]
    }
   ],
   "source": [
    "print(time_trial(10000, 100))\n",
    "# Na revlines_direct é mais eficiente porque evita um alto consumo de memória"
   ]
  },
  {
   "cell_type": "markdown",
   "id": "94cfc1f8-3f56-4f7c-9208-3f5bb29adb2a",
   "metadata": {},
   "source": [
    "**Questão 2. Contagem de bigramas de palavras** \n",
    "\n",
    "Vamos escrever uma função para contar bigramas de palavras. Ou seja, para cada par de palavras, digamos, gato e cachorro, queremos contar quantas vezes\n",
    "a palavra “gato” ocorreu imediatamente antes da palavra “cachorro”. Representaremos esse bigrama por uma tupla, (’gato’, ’cachorro’). Para nossos propósitos, ignoraremos todas as quebras de linha, pontuação e capitalização em nossa contagem. Então, como exemplo, o fragmento de poema:\n",
    "\n",
    "Half a league, half a league,\n",
    "Half a league onward,\n",
    "All in the valley of Death\n",
    "Rode the six hundred.\n",
    "\n",
    "inclui os bigramas (’half’, ’a’) e (’a’, ’league’) ambos três vezes, o bigrama (’league’, ’half’) aparece duas\n",
    "vezes, enquanto o bigrama (’in’, ’the’) aparece apenas uma vez.\n",
    "\n",
    "1) Escreva uma função count_bigrams_in_file que receba um nome de arquivo como seu único argumento. Sua função deve ler do arquivo fornecido e retornar um dicionário cujas chaves são bigramas (fornecidos na forma de tupla acima) e os valores são as contagens para esses bigramas. Novamente, sua função deve ignorar pontuação, espaços, novas linhas e capitalização. As strings em suas tuplas de chave devem ser minúsculas. Sua função deve usar uma instrução try-catch para gerar um erro com uma mensagem apropriada para alertar o usuário no caso de o arquivo fornecido não poder ser\n",
    "aberto e um erro diferente no caso de o argumento fornecido não ser uma string. Dica: você en\u0002contrará a função Python str.strip(), junto com as constantes de string definidas na documentação de string (https://docs.python.org/3/library/string.html), úteis para remover pontuação.\n"
   ]
  },
  {
   "cell_type": "code",
   "execution_count": 59,
   "id": "60a6dd8c-37b5-4263-a164-f23923abcc7e",
   "metadata": {},
   "outputs": [
    {
     "name": "stdout",
     "output_type": "stream",
     "text": [
      "Bigramas encontrados e suas contagens:\n",
      "('half', 'a'): 3\n",
      "('a', 'league'): 3\n",
      "('league', 'half'): 2\n",
      "('league', 'onward'): 1\n",
      "('onward', 'all'): 1\n",
      "('all', 'in'): 1\n",
      "('in', 'the'): 1\n",
      "('the', 'valley'): 1\n",
      "('valley', 'of'): 1\n",
      "('of', 'death'): 1\n",
      "('death', 'rode'): 1\n",
      "('rode', 'the'): 1\n",
      "('the', 'six'): 1\n",
      "('six', 'hundred'): 1\n"
     ]
    }
   ],
   "source": [
    "import string\n",
    "\n",
    "def count_bigrams_in_file(filename):\n",
    "    if not isinstance(filename, str):\n",
    "        raise ValueError(\"O nome do arquivo deve ser uma string.\")\n",
    "\n",
    "    bigram_counts = {}\n",
    "\n",
    "    try:\n",
    "        with open(filename, 'r') as f:\n",
    "            text = f.read().lower()\n",
    "            text = text.translate(str.maketrans('', '', string.punctuation))\n",
    "            words = text.split()\n",
    "\n",
    "            for i in range(len(words) - 1):\n",
    "                bigram = (words[i], words[i + 1])\n",
    "                bigram_counts[bigram] = bigram_counts.get(bigram, 0) + 1\n",
    "\n",
    "    except IOError as e:\n",
    "        print(f\"Erro ao acessar o arquivo: {e}\")\n",
    "\n",
    "    return bigram_counts\n",
    "bigrams = count_bigrams_in_file(test_filename)\n",
    "print(\"Bigramas encontrados e suas contagens:\")\n",
    "for bigram, count in bigrams.items():\n",
    "    print(f\"{bigram}: {count}\")\n"
   ]
  }
 ],
 "metadata": {
  "kernelspec": {
   "display_name": "Python 3 (ipykernel)",
   "language": "python",
   "name": "python3"
  },
  "language_info": {
   "codemirror_mode": {
    "name": "ipython",
    "version": 3
   },
   "file_extension": ".py",
   "mimetype": "text/x-python",
   "name": "python",
   "nbconvert_exporter": "python",
   "pygments_lexer": "ipython3",
   "version": "3.12.7"
  }
 },
 "nbformat": 4,
 "nbformat_minor": 5
}
