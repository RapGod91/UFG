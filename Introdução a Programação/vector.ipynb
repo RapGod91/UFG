{
 "cells": [
  {
   "cell_type": "markdown",
   "id": "88db3d19-bf1c-4e07-8c50-a9cc8743e5f4",
   "metadata": {},
   "source": [
    "<h1>Tarefa 4: POO</h1>\n",
    "\n",
    "**Questão 1. Neste exercício, encontraremos nosso velho amigo, o vetor, mais uma vez, desta vez usando objetos.**\n",
    "\n",
    "1) Defina uma classe Vector. Cada vetor deve ter uma dimensão (um inteiro positivo) e uma lista ou tupla de suas entradas. O inicializador para sua classe deve tomar a dimensão como seu primeiro argumento e uma lista ou tupla de números (ints ou floats), representando as entradas do vetor, como seu segundo argumento. Se o usuário fornecer apenas uma dimensão e nenhuma entrada, o comportamento padrão deve ser criar um vetor com todos os elementos zeros da dimensão fornecida. O inicializador deve gerar um erro no caso em que a dimensão seja inválida (ou seja, tipo errado ou um número negativo) e também deve gerar um erro no caso de a dimensão e o número de entradas fornecidas discordarem."
   ]
  },
  {
   "cell_type": "code",
   "execution_count": 27,
   "id": "5c544d2e-dadd-40e9-9c7a-f30f8110ae40",
   "metadata": {},
   "outputs": [],
   "source": [
    "def __init__(self, dimension, entries=None):\n",
    "    if not isinstance(dimension, int) or dimension <= 0:\n",
    "        raise ValueError(\"A dimensão deve ser um inteiro positivo.\")\n",
    "        \n",
    "    if entries is None:\n",
    "        self.entries = tuple([0] * dimension)\n",
    "    else:\n",
    "        if not isinstance(entries, (list, tuple)):\n",
    "            raise TypeError(\"As entradas devem ser uma lista ou tupla.\")\n",
    "        if len(entries) != dimension:\n",
    "            raise ValueError(\"O número de entradas não corresponde à dimensão.\")\n",
    "        if not all(isinstance(x, (int, float)) for x in entries):\n",
    "            raise TypeError(\"As entradas devem ser números inteiros ou floats.\")\n",
    "            \n",
    "        self.entries = tuple(entries)\n",
    "        \n",
    "        self.dimension = dimension"
   ]
  },
  {
   "cell_type": "markdown",
   "id": "ccaefc4f-9baa-44bb-9b38-be55113b5936",
   "metadata": {},
   "source": [
    "2) Implemente um método Vector.get_dim() que retorna a dimensão do vetor e um método Vector.get_entries() que retorna as entradas do vetor como uma tupla."
   ]
  },
  {
   "cell_type": "code",
   "execution_count": 5,
   "id": "27133960-14ba-4ce1-b10d-28e42005a3f8",
   "metadata": {},
   "outputs": [],
   "source": [
    "def get_dim(self):\n",
    "    return self.dimension\n",
    "\n",
    "def get_entries(self):\n",
    "    return self.entries"
   ]
  },
  {
   "cell_type": "markdown",
   "id": "6c3a7044-8eb0-4e21-912d-82a9f94aec2a",
   "metadata": {},
   "source": [
    "3) Implemente o(s) operador(es) necessário(s) para suportar a comparação (igualdade, menor que, menor ou igual a, maior que, etc.) de objetos Vector. Diremos que dois objetos Vector são equivalentes se tiverem as mesmas coordenadas (normalmente nos preocuparíamos com a comparação de float aqui, mas vamos ignorar isso). Caso contrário, a comparação deve ser análoga às tuplas em Python, de modo que a comparação seja feita na primeira coordenada primeiro, depois na segunda coordenada, depois na terceira e assim por diante. Então, por exemplo, o vetor bidimensional (2, 4) é ordenado antes de (menor que) (2, 5). Tentar comparar dois vetores de dimensões diferentes deve resultar em um erro. Tentar comparar um objeto Vector a um objeto que não é do tipo Vector deve resultar em um erro."
   ]
  },
  {
   "cell_type": "code",
   "execution_count": 7,
   "id": "a982b992-a901-463f-bdaa-3b44db6c3e39",
   "metadata": {},
   "outputs": [],
   "source": [
    "def __eq__(self, other):\n",
    "    if not isinstance(other, Vector):\n",
    "        return False\n",
    "    if self.dimension != other.dimension:\n",
    "        raise ValueError(\"Não é possível comparar vetores de dimensões diferentes.\")\n",
    "    return self.entries == other.entries\n",
    "\n",
    "def __lt__(self, other):\n",
    "    if not isinstance(other, Vector):\n",
    "        raise TypeError(\"Comparação permitida apenas entre objetos Vector.\")\n",
    "    if self.dimension != other.dimension:\n",
    "        raise ValueError(\"Não é possível comparar vetores de dimensões diferentes.\")\n",
    "    return self.entries < other.entries\n",
    "\n",
    "def __le__(self, other):\n",
    "    return self == other or self < other\n",
    "\n",
    "def __gt__(self, other):\n",
    "    return not self <= other\n",
    "\n",
    "def __ge__(self, other):\n",
    "    return not self < other"
   ]
  },
  {
   "cell_type": "markdown",
   "id": "6d01809a-3a04-4f33-a82e-c269827160ad",
   "metadata": {},
   "source": [
    "4) Implemente os operadores de adição e subtração para objetos Vector, para que possamos escrever v1 + v2 e v1 - v2 para objetos Vector v1 e v2 da mesma dimensão. Adicionar dois objetos Vector deve produzir outro objeto Vector. Adicionar dois objetos Vector de dimensões diferentes deve resultar\n",
    "em um erro, assim como adicionar um Vector e um não-Vector"
   ]
  },
  {
   "cell_type": "code",
   "execution_count": 9,
   "id": "ad70da5e-659b-4853-ac05-7411509bf668",
   "metadata": {},
   "outputs": [],
   "source": [
    "def __add__(self, other):\n",
    "    if not isinstance(other, Vector):\n",
    "        raise TypeError(\"Só é possível somar dois objetos Vector.\")\n",
    "    if self.dimension != other.dimension:\n",
    "        raise ValueError(\"Não é possível somar vetores de dimensões diferentes.\")\n",
    "        \n",
    "    return Vector(self.dimension, [a + b for a, b in zip(self.entries, other.entries)])\n",
    "\n",
    "def __sub__(self, other):\n",
    "    if not isinstance(other, Vector):\n",
    "        raise TypeError(\"Só é possível subtrair dois objetos Vector.\")\n",
    "    if self.dimension != other.dimension:\n",
    "        raise ValueError(\"Não é possível subtrair vetores de dimensões diferentes.\")\n",
    "        \n",
    "    return Vector(self.dimension, [a - b for a, b in zip(self.entries, other.entries)])"
   ]
  },
  {
   "cell_type": "markdown",
   "id": "8654345c-7178-4d12-b4d1-4c3b2eafc5ea",
   "metadata": {},
   "source": [
    "5) Implemente um método Vector.dot para calcular o produto interno do chamador com outro objeto Vector. Ou seja, se v1 e v2 forem objetos Vector, v1.dot(v2) deve calcular seu produto interno. Seu método deve gerar um erro apropriado no caso em que o argumento não seja do tipo correto ou no caso em que as dimensões dos dois vetores não coincidam."
   ]
  },
  {
   "cell_type": "code",
   "execution_count": 11,
   "id": "8b86813a-4f22-4c37-a345-ca84ee951d02",
   "metadata": {},
   "outputs": [],
   "source": [
    "def dot(self, other):\n",
    "    if not isinstance(other, Vector):\n",
    "        raise TypeError(\"O produto interno é definido apenas entre objetos Vector.\")\n",
    "    if self.dimension != other.dimension:\n",
    "        raise ValueError(\"Os vetores precisam ter a mesma dimensão para calcular o produto interno.\")\n",
    "        \n",
    "    return sum(a * b for a, b in zip(self.entries, other.entries))"
   ]
  },
  {
   "cell_type": "markdown",
   "id": "7ad24da5-eb7e-4c5a-9335-9f561cfc7f3a",
   "metadata": {},
   "source": [
    "6) Gostaríamos também que nossa classe Vector suportasse multiplicação escalar. Multiplicação à esquerda ou à direita por um escalar, por exemplo, 2*v ou v*2, onde v é um objeto Vector, deve resultar em um novo objeto Vector com suas entradas todas multiplicadas pelo escalar fornecido.\n",
    "Isso deve suportar multiplicação por ints e floats. Implemente os operadores apropriados para dar suporte a esta operação de multiplicação. Muitas linguagens têm uma convenção para lidar com multiplicação de vetores que diferem em suas dimensões, mas vamos adiar este assunto. Seu método deve simplesmente levantar um erro apropriado no caso de v e w discordarem em suas dimensões. Seu método também deve levantar um erro ao tentar multiplicar um objeto Vector por qualquer coisa que não seja um Vector, int ou float."
   ]
  },
  {
   "cell_type": "code",
   "execution_count": 29,
   "id": "8243e906-9e13-48a1-807a-f8f782449ad6",
   "metadata": {},
   "outputs": [],
   "source": [
    "def __mul__(self, scalar):\n",
    "    if not isinstance(scalar, (int, float)):\n",
    "        raise TypeError(\"A multiplicação escalar só pode ser feita com int ou float.\")\n",
    "    return Vector(self.dimension, [scalar * x for x in self.entries])\n",
    "\n",
    "def __rmul__(self, scalar):\n",
    "    return self * scalar  # Multiplicação escalar deve ser comutativa.\n",
    "\n",
    "def __repr__(self):\n",
    "    return f\"Vector({self.dimension}, {self.entries})\"\n"
   ]
  },
  {
   "cell_type": "markdown",
   "id": "b2f24dd8-b7f1-4e69-9d48-9152dbe0da3d",
   "metadata": {},
   "source": [
    "**Executando dentro da Classe Vector**"
   ]
  },
  {
   "cell_type": "code",
   "execution_count": 35,
   "id": "c38f0cfa-cca9-4728-8876-f84bff93d51e",
   "metadata": {},
   "outputs": [
    {
     "name": "stdout",
     "output_type": "stream",
     "text": [
      "3\n",
      "(4, 5, 6)\n",
      "False\n",
      "Vector(3, (11, 13, 15))\n",
      "Vector(3, (-3, -3, -3))\n",
      "122\n",
      "Vector(3, (8, 10, 12))\n",
      "Vector(3, (12, 15, 18))\n"
     ]
    }
   ],
   "source": [
    "class Vector:\n",
    "    def __init__(self, dimension, entries=None):\n",
    "        if not isinstance(dimension, int) or dimension <= 0:\n",
    "            raise ValueError(\"A dimensão deve ser um inteiro positivo.\")\n",
    "        \n",
    "        if entries is None:\n",
    "            self.entries = tuple([0] * dimension)\n",
    "        else:\n",
    "            if not isinstance(entries, (list, tuple)):\n",
    "                raise TypeError(\"As entradas devem ser uma lista ou tupla.\")\n",
    "            if len(entries) != dimension:\n",
    "                raise ValueError(\"O número de entradas não corresponde à dimensão.\")\n",
    "            if not all(isinstance(x, (int, float)) for x in entries):\n",
    "                raise TypeError(\"As entradas devem ser números inteiros ou floats.\")\n",
    "            \n",
    "            self.entries = tuple(entries)\n",
    "        \n",
    "        self.dimension = dimension\n",
    "\n",
    "    def get_dim(self):\n",
    "        return self.dimension\n",
    "\n",
    "    def get_entries(self):\n",
    "        return self.entries\n",
    "\n",
    "    def __eq__(self, other):\n",
    "        if not isinstance(other, Vector):\n",
    "            return False\n",
    "        if self.dimension != other.dimension:\n",
    "            raise ValueError(\"Não é possível comparar vetores de dimensões diferentes.\")\n",
    "        return self.entries == other.entries\n",
    "\n",
    "    def __lt__(self, other):\n",
    "        if not isinstance(other, Vector):\n",
    "            raise TypeError(\"Comparação permitida apenas entre objetos Vector.\")\n",
    "        if self.dimension != other.dimension:\n",
    "            raise ValueError(\"Não é possível comparar vetores de dimensões diferentes.\")\n",
    "        return self.entries < other.entries\n",
    "\n",
    "    def __le__(self, other):\n",
    "        return self == other or self < other\n",
    "\n",
    "    def __gt__(self, other):\n",
    "        return not self <= other\n",
    "\n",
    "    def __ge__(self, other):\n",
    "        return not self < other\n",
    "\n",
    "    def __add__(self, other):\n",
    "        if not isinstance(other, Vector):\n",
    "            raise TypeError(\"Só é possível somar dois objetos Vector.\")\n",
    "        if self.dimension != other.dimension:\n",
    "            raise ValueError(\"Não é possível somar vetores de dimensões diferentes.\")\n",
    "        \n",
    "        return Vector(self.dimension, [a + b for a, b in zip(self.entries, other.entries)])\n",
    "\n",
    "    def __sub__(self, other):\n",
    "        if not isinstance(other, Vector):\n",
    "            raise TypeError(\"Só é possível subtrair dois objetos Vector.\")\n",
    "        if self.dimension != other.dimension:\n",
    "            raise ValueError(\"Não é possível subtrair vetores de dimensões diferentes.\")\n",
    "        \n",
    "        return Vector(self.dimension, [a - b for a, b in zip(self.entries, other.entries)])\n",
    "\n",
    "    def dot(self, other):\n",
    "        if not isinstance(other, Vector):\n",
    "            raise TypeError(\"O produto interno é definido apenas entre objetos Vector.\")\n",
    "        if self.dimension != other.dimension:\n",
    "            raise ValueError(\"Os vetores precisam ter a mesma dimensão para calcular o produto interno.\")\n",
    "        \n",
    "        return sum(a * b for a, b in zip(self.entries, other.entries))\n",
    "\n",
    "    def __mul__(self, scalar):\n",
    "        if not isinstance(scalar, (int, float)):\n",
    "            raise TypeError(\"A multiplicação escalar só pode ser feita com int ou float.\")\n",
    "        return Vector(self.dimension, [scalar * x for x in self.entries])\n",
    "\n",
    "    def __rmul__(self, scalar):\n",
    "        return self * scalar  # Multiplicação escalar deve ser comutativa.\n",
    "\n",
    "    def __repr__(self):\n",
    "        return f\"Vector({self.dimension}, {self.entries})\"\n",
    "\n",
    "# Testes\n",
    "v1 = Vector(3, [4, 5, 6])\n",
    "v2 = Vector(3, [7, 8, 9])\n",
    "v3 = Vector(3)  \n",
    "\n",
    "print(v1.get_dim())\n",
    "print(v1.get_entries())\n",
    "print(v1 == Vector(3, [1, 2, 3]))\n",
    "print(v1 + v2)\n",
    "print(v1 - v2)\n",
    "print(v1.dot(v2))\n",
    "print(2 * v1)\n",
    "print(v1 * 3)\n"
   ]
  }
 ],
 "metadata": {
  "kernelspec": {
   "display_name": "Python 3 (ipykernel)",
   "language": "python",
   "name": "python3"
  },
  "language_info": {
   "codemirror_mode": {
    "name": "ipython",
    "version": 3
   },
   "file_extension": ".py",
   "mimetype": "text/x-python",
   "name": "python",
   "nbconvert_exporter": "python",
   "pygments_lexer": "ipython3",
   "version": "3.12.7"
  }
 },
 "nbformat": 4,
 "nbformat_minor": 5
}
