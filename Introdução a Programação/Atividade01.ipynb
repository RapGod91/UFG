{
 "cells": [
  {
   "cell_type": "markdown",
   "id": "eddd1993-d3e8-44ef-b2cf-998119722cd7",
   "metadata": {},
   "source": [
    "<h1>Atividade 01</h1>\n",
    "\n",
    "<b>Aluno</b>\n",
    "<p>Raphael Rodrigues Silva</p>\n",
    "\n",
    "**Questão 1**\n",
    "\n",
    "1) Defina uma função chamada bird_pad, que recebe uma string como único argumento e imprime essa\n",
    "string com o prefixo e o sufixo ”bird”.\n",
    "• Exemplo:\n",
    "– bird_pad(’goat’) deve produzir a saída: ”birdgoatbird”\n",
    "– bird_pad(\n",
    "0_0\n",
    ") deve produzir: ”bird_bird”\n"
   ]
  },
  {
   "cell_type": "code",
   "execution_count": 5,
   "id": "88e477d1-cc05-499f-a3e7-cadbd895dfa7",
   "metadata": {},
   "outputs": [
    {
     "name": "stdout",
     "output_type": "stream",
     "text": [
      "birdgoatbird\n",
      "bird_bird\n"
     ]
    }
   ],
   "source": [
    "def bird_pad():\n",
    "  a = \"goat\"\n",
    "  print(\"bird\"+a+\"bird\")\n",
    "  a = \"_\"\n",
    "  print(\"bird\"+a+\"bird\")\n",
    "bird_pad()"
   ]
  },
  {
   "cell_type": "markdown",
   "id": "a5700078-8d83-4533-b51c-365243a9e525",
   "metadata": {},
   "source": [
    "2) Defina uma função chamada print_n, que recebe dois argumentos: uma string s e um número inteiro\n",
    "não negativo n (nessa ordem). A função imprime a string s repetida n vezes, cada uma em uma\n",
    "linha separada."
   ]
  },
  {
   "cell_type": "code",
   "execution_count": 7,
   "id": "671f4d11-4781-4943-b237-dc5f6b4c9cac",
   "metadata": {},
   "outputs": [
    {
     "name": "stdout",
     "output_type": "stream",
     "text": [
      "\n",
      "cat\n",
      "cat\n",
      "cat\n"
     ]
    }
   ],
   "source": [
    "def print_n():\n",
    "  s = \"\\ncat\"\n",
    "  n = int (3)\n",
    "  if n > 0:\n",
    "    print(n*s)\n",
    "  else :\n",
    "    print(\"Variável n menor ou igual a zero, não imprime cat na tela\")\n",
    "print_n()"
   ]
  },
  {
   "cell_type": "markdown",
   "id": "b04041d8-a9a2-4931-90fe-62f9a9dc2c7f",
   "metadata": {},
   "source": [
    "**Questão 2**\n",
    "\n",
    "1) Use o pseudocódigo do algoritmo de Euclides (https://en.wikipedia.org/wiki/Euclidean_algorithm)\n",
    "para implementar uma função chamada gcd, que recebe dois inteiros como argumentos e retorna o\n",
    "MDC deles."
   ]
  },
  {
   "cell_type": "code",
   "execution_count": 9,
   "id": "d2c6f220-962f-4df7-b72d-6f5aa2b8b68d",
   "metadata": {},
   "outputs": [
    {
     "data": {
      "text/plain": [
       "9"
      ]
     },
     "execution_count": 9,
     "metadata": {},
     "output_type": "execute_result"
    }
   ],
   "source": [
    "def gcd():\n",
    "  a = int(45)\n",
    "  b = int(18)\n",
    "\n",
    "  while a != b:\n",
    "    if a > b:\n",
    "      a = a - b\n",
    "    else:\n",
    "      b = b - a\n",
    "  return a\n",
    "  print(a)\n",
    "gcd()"
   ]
  },
  {
   "cell_type": "markdown",
   "id": "f100e774-3d9d-4303-a1e7-483a0a5ac436",
   "metadata": {},
   "source": [
    "2) Use sua função para calcular o MDC dos seguintes pares de números:\n",
    "(a) 1200, 300\n",
    "(b) 5040, 60\n",
    "(c) 29, 31\n",
    "(d) 2023, 2024"
   ]
  },
  {
   "cell_type": "code",
   "execution_count": 11,
   "id": "3720ecdf-77dd-4cf5-9603-3a0fc8e3c4be",
   "metadata": {},
   "outputs": [
    {
     "name": "stdout",
     "output_type": "stream",
     "text": [
      "a: 300\n",
      "b: 60\n",
      "c: 1\n",
      "d: 1\n"
     ]
    }
   ],
   "source": [
    "def gcd(a, b):\n",
    "  while a != b:\n",
    "    if a > b:\n",
    "      a = a - b\n",
    "    else:\n",
    "      b = b - a\n",
    "  return a\n",
    "resultado_a = gcd(1200, 300)\n",
    "print('a: ' + str(resultado_a))\n",
    "resultado_b = gcd(5040, 60)\n",
    "print('b: ' + str(resultado_b))\n",
    "resultado_c = gcd(29, 31)\n",
    "print('c: ' + str(resultado_c))\n",
    "resultado_d = gcd(2023, 2024)\n",
    "print('d: ' + str(resultado_d))"
   ]
  },
  {
   "cell_type": "markdown",
   "id": "72e4b1f0-351d-448e-8499-06c06d2e2790",
   "metadata": {},
   "source": [
    "3) O que acontece se um ou ambos os argumentos forem negativos? Esse comportamento faz sentido?\n",
    "Execute gcd com números negativos e escreva uma ou duas frases discutindo o que observou.\n"
   ]
  },
  {
   "cell_type": "code",
   "execution_count": 13,
   "id": "169f656a-12c8-4627-bf9c-4fd7665825fe",
   "metadata": {},
   "outputs": [
    {
     "data": {
      "text/plain": [
       "9"
      ]
     },
     "execution_count": 13,
     "metadata": {},
     "output_type": "execute_result"
    }
   ],
   "source": [
    "def gcd():\n",
    "  # a = int(-45)\n",
    "  # b = int(-18)\n",
    "\n",
    "  a = abs(-45)\n",
    "  b = abs(-18)\n",
    "\n",
    "  while a != b:\n",
    "    if a > b:\n",
    "      a = a - b\n",
    "    else:\n",
    "      b = b - a\n",
    "  return a\n",
    "  print(a)\n",
    "gcd()\n",
    "\n",
    "# Como o laço foi utilizado para subtrair um termo do outro, gerou um loop devido ficar negativo.\n",
    "# Nesse caso, adaptei a solução utilizando o módulo do número, com abs (absoluto)"
   ]
  },
  {
   "cell_type": "markdown",
   "id": "d00aa274-c03c-4d18-abfa-619e70896ee8",
   "metadata": {},
   "source": [
    "**Questão 3**\n",
    "\n",
    "Aproximando o Número de Euler e\n",
    "O número de Euler e é definido como a soma infinita:\n",
    "\n",
    "1) Use a definição de Bernoulli para e:\n",
    "Implemente a função euler_limit, que recebe um inteiro positivo n e retorna uma aproximação\n",
    "de e tomando x = n"
   ]
  },
  {
   "cell_type": "code",
   "execution_count": 57,
   "id": "88502f10-94c6-4cc7-8e9e-85674d6dde58",
   "metadata": {},
   "outputs": [
    {
     "data": {
      "text/plain": [
       "2.7182682371922975"
      ]
     },
     "execution_count": 57,
     "metadata": {},
     "output_type": "execute_result"
    }
   ],
   "source": [
    "def euler_limit(n):\n",
    "  if n > 0:\n",
    "    x = 1\n",
    "    while x <= n:\n",
    "      lim = (1 + (1/x)) ** x\n",
    "      x = x + 1\n",
    "    return lim #adicionei retorno de lim na atividade 5, quando tive que usar a função novamente#\n",
    "    print(lim)\n",
    "  else:\n",
    "    print(\"Valor igual a zero ou negativo!\")\n",
    "\n",
    "euler_limit(100000)"
   ]
  },
  {
   "cell_type": "markdown",
   "id": "f57a54d6-641b-4d97-8e14-5bb464cd7bc3",
   "metadata": {},
   "source": [
    "2) Implemente a função factorial, que calcula o fatorial de um número inteiro não negativo k usando\n",
    "recursão. Não use math.factorial, mas pode usá-lo para testar sua implementação."
   ]
  },
  {
   "cell_type": "code",
   "execution_count": 17,
   "id": "887772f5-4d49-4e1d-8991-7a3827a0665b",
   "metadata": {},
   "outputs": [
    {
     "name": "stdout",
     "output_type": "stream",
     "text": [
      "120\n"
     ]
    }
   ],
   "source": [
    "def factorial(k):\n",
    "  if k == 0:\n",
    "    return 1\n",
    "  else:\n",
    "    resultado = 1\n",
    "    while k > 1:\n",
    "      resultado = resultado * k\n",
    "      k = k - 1\n",
    "    return resultado\n",
    "print(factorial(5))"
   ]
  },
  {
   "cell_type": "markdown",
   "id": "4f0ecefe-8394-4a43-a362-b842717ce220",
   "metadata": {},
   "source": [
    "3) Defina a função euler_inf inite_sum, que recebe um inteiro n e retorna uma aproximação de e\n",
    "somando os primeiros n termos da série infinita acima."
   ]
  },
  {
   "cell_type": "code",
   "execution_count": 21,
   "id": "80b5822f-82c2-4c32-992f-448a2b382d0f",
   "metadata": {},
   "outputs": [
    {
     "name": "stdout",
     "output_type": "stream",
     "text": [
      "2.7182818284590455\n"
     ]
    }
   ],
   "source": [
    "def euler_infinite_sum(n):\n",
    "  aprox = 0\n",
    "  i = 0\n",
    "  while i < n:\n",
    "    aprox += 1 / factorial(i)\n",
    "    i += 1\n",
    "  return aprox\n",
    "\n",
    "print(euler_infinite_sum(100))"
   ]
  },
  {
   "cell_type": "markdown",
   "id": "f8059290-3dcd-4a22-a266-e73c3310de1a",
   "metadata": {},
   "source": [
    "4) Crie a função euler_approx, que recebe um número positivo t e retorna o menor número de termos\n",
    "necessários na série infinita para que a aproximação de e esteja dentro de t do valor real."
   ]
  },
  {
   "cell_type": "code",
   "execution_count": 39,
   "id": "a620583a-75cb-49a6-930c-29eb5686dedc",
   "metadata": {},
   "outputs": [
    {
     "name": "stdout",
     "output_type": "stream",
     "text": [
      "6\n"
     ]
    }
   ],
   "source": [
    "import math\n",
    "\n",
    "def euler_approx(t):\n",
    "    n = 1\n",
    "    while abs((euler_infinite_sum(n)) - math.e) > t:\n",
    "        n += 1\n",
    "    return n\n",
    "\n",
    "print(euler_approx(0.005))"
   ]
  },
  {
   "cell_type": "markdown",
   "id": "f9df41d7-4ee1-4815-8987-db03202e09e6",
   "metadata": {},
   "source": [
    "5) Defina as funções print_euler_sum_table e print_euler_lim_table, que imprimem os valores\n",
    "sucessivos das aproximações com base nas funções euler_infinite_sum e euler_limit, respectivamente."
   ]
  },
  {
   "cell_type": "code",
   "execution_count": 85,
   "id": "d026b5e4-dff9-4abb-af46-815bb957d610",
   "metadata": {},
   "outputs": [
    {
     "name": "stdout",
     "output_type": "stream",
     "text": [
      "Número de aproximações de e pela Soma infinita\n",
      "n\tAproximação\n",
      "\n",
      "1\t1.0\n",
      "2\t2.0\n",
      "3\t2.5\n",
      "4\t2.6666666666666665\n",
      "5\t2.708333333333333\n",
      "6\t2.7166666666666663\n",
      "7\t2.7180555555555554\n",
      "8\t2.7182539682539684\n",
      "9\t2.71827876984127\n",
      "10\t2.7182815255731922\n",
      "11\t2.7182818011463845\n",
      "12\t2.718281826198493\n",
      "13\t2.7182818282861687\n",
      "14\t2.7182818284467594\n",
      "15\t2.71828182845823\n",
      "16\t2.718281828458995\n",
      "17\t2.718281828459043\n",
      "18\t2.7182818284590455\n",
      "19\t2.7182818284590455\n",
      "20\t2.7182818284590455\n",
      "\n",
      "Número de aproximações de e pela Definição de Bernoulli\n",
      "n\tAproximação\n",
      "\n",
      "1\t2.0\n",
      "2\t2.25\n",
      "3\t2.37037037037037\n",
      "4\t2.44140625\n",
      "5\t2.4883199999999994\n",
      "6\t2.5216263717421135\n",
      "7\t2.546499697040712\n",
      "8\t2.565784513950348\n",
      "9\t2.5811747917131984\n",
      "10\t2.5937424601000023\n",
      "11\t2.6041990118975287\n",
      "12\t2.613035290224676\n",
      "13\t2.6206008878857308\n",
      "14\t2.6271515563008685\n",
      "15\t2.6328787177279187\n",
      "16\t2.6379284973666\n",
      "17\t2.64241437518311\n",
      "18\t2.6464258210976865\n",
      "19\t2.650034326640442\n",
      "20\t2.653297705144422\n"
     ]
    }
   ],
   "source": [
    "def print_euler_sum_table(n):\n",
    "    print(\"Número de aproximações de e pela Soma infinita\")\n",
    "    print(\"n\\tAproximação\\n\")\n",
    "    for i in range(1, n + 1):\n",
    "        print(str(i) + \"\\t\" + str(euler_infinite_sum(i)))\n",
    "\n",
    "def print_euler_limit_table(n):\n",
    "    print(\"\\nNúmero de aproximações de e pela Definição de Bernoulli\")\n",
    "    print(\"n\\tAproximação\\n\")\n",
    "    for i in range(1, n + 1):\n",
    "        print(str(i) + \"\\t\" + str(euler_limit(i)))\n",
    "\n",
    "print_euler_sum_table(20)\n",
    "print_euler_limit_table(20)"
   ]
  },
  {
   "cell_type": "markdown",
   "id": "ae3235e5-2d84-4b75-ba89-0867e9b20901",
   "metadata": {},
   "source": [
    "6) Compare as duas aproximações. Qual delas converge mais rápido para e:\n",
    "\n",
    "<b>A aproximação pela soma inifinita converge mais rápido para o número de e. A partir da 15ª da soma infinita, o valor já chegou a uma aproximação de mais de 10 digitos decimais do número de euler. Sendo que com a aproximação com o limite quando tende a 100000, ainda não chega no mesmo grau de precisão.</b>"
   ]
  },
  {
   "cell_type": "markdown",
   "id": "e3613995-e35a-4c5f-93cf-b77fc732e14a",
   "metadata": {},
   "source": [
    "**Questão 4**\n",
    "\n",
    "Testando Propriedades de um Inteiro \n",
    "\n",
    "Um número inteiro n é uma potência de 2 se n = 2^p, onde p é um número inteiro.\n",
    "• Implemente a função is_power_of_2, que recebe um número inteiro e retorna True se for uma\n",
    "potência de 2, e False caso contrário. Dica: Uma solução elegante pode ser feita com recursão, mas\n",
    "não é obrigatório.\n"
   ]
  },
  {
   "cell_type": "code",
   "execution_count": 102,
   "id": "26888d60-df63-40ab-95f3-cceeefc4e9e3",
   "metadata": {},
   "outputs": [
    {
     "name": "stdout",
     "output_type": "stream",
     "text": [
      "True\n"
     ]
    }
   ],
   "source": [
    "def is_power_of_2(n):\n",
    "    if n <= 0:\n",
    "        return False\n",
    "    while n % 2 == 0:\n",
    "        n = n / 2\n",
    "    return n ==1\n",
    "    \n",
    "print(is_power_of_2(2))"
   ]
  },
  {
   "cell_type": "markdown",
   "id": "f55c9d32-5e6d-4d34-9f93-4acdbdefa65a",
   "metadata": {},
   "source": [
    "• Generalize a solução anterior com a função is_power(b, n), que verifica se n é uma potência de b.\n",
    "Por exemplo, n = b^p"
   ]
  },
  {
   "cell_type": "code",
   "execution_count": 126,
   "id": "bbee6d40-f580-4775-bf7b-3ad2d95c741b",
   "metadata": {},
   "outputs": [
    {
     "name": "stdout",
     "output_type": "stream",
     "text": [
      "True\n"
     ]
    }
   ],
   "source": [
    "def is_power(b, n):\n",
    "    if n <= 0:\n",
    "        return False\n",
    "    while n % b == 0:\n",
    "        n = n / b\n",
    "    return n ==1\n",
    "    \n",
    "print(is_power(4, 64))"
   ]
  }
 ],
 "metadata": {
  "kernelspec": {
   "display_name": "Python [conda env:base] *",
   "language": "python",
   "name": "conda-base-py"
  },
  "language_info": {
   "codemirror_mode": {
    "name": "ipython",
    "version": 3
   },
   "file_extension": ".py",
   "mimetype": "text/x-python",
   "name": "python",
   "nbconvert_exporter": "python",
   "pygments_lexer": "ipython3",
   "version": "3.12.7"
  }
 },
 "nbformat": 4,
 "nbformat_minor": 5
}
