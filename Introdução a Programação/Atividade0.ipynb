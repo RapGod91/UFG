{
 "cells": [
  {
   "cell_type": "markdown",
   "id": "561570f9-e218-4631-8975-95e9e2027ed2",
   "metadata": {},
   "source": [
    "<h1>Projeto TJ: Python</h1>\n",
    "<b>Aluno: </b> <p>Raphael Rodrigues Silva</p>"
   ]
  },
  {
   "cell_type": "code",
   "execution_count": 10,
   "id": "79ef230d-8ad8-4363-a4a1-9dee8543e01a",
   "metadata": {},
   "outputs": [
    {
     "name": "stdout",
     "output_type": "stream",
     "text": [
      "Hello world!\n"
     ]
    }
   ],
   "source": [
    "print(\"Hello world!\")"
   ]
  }
 ],
 "metadata": {
  "kernelspec": {
   "display_name": "Python [conda env:base] *",
   "language": "python",
   "name": "conda-base-py"
  },
  "language_info": {
   "codemirror_mode": {
    "name": "ipython",
    "version": 3
   },
   "file_extension": ".py",
   "mimetype": "text/x-python",
   "name": "python",
   "nbconvert_exporter": "python",
   "pygments_lexer": "ipython3",
   "version": "3.12.7"
  }
 },
 "nbformat": 4,
 "nbformat_minor": 5
}
