{
 "cells": [
  {
   "cell_type": "markdown",
   "id": "a3f08712-11e8-4e89-a627-fbd0420cd11b",
   "metadata": {},
   "source": [
    "<h1>Atividade em sala 1</h1>\n",
    "\n",
    "<b>Aluno</b>\n",
    "<p>Raphael Rodrigues Silva</p>\n",
    "\n",
    "**Questão 1. Diversão com Strings**\n",
    "\n",
    "Nesta tarefa, você implementará funções simples para manipulação de strings. Não é necessário realizar verificações de erro. Pense cuidadosamente sobre o comportamento esperado em casos especiais (e.g., string vazia, strings com comprimento 1, etc.).\n"
   ]
  },
  {
   "cell_type": "markdown",
   "id": "d27e9efa-2e07-4b67-95c8-3c1dfe36e524",
   "metadata": {},
   "source": [
    "1) Palíndromos: Um palíndromo é uma palavra ou frase que se lê da mesma forma para frente e para trás. Exemplo: ”level”, ”kayak”, ”pop”. Frases como ”rats live on evil star” e ”Was it a car or a cat I saw?” também são palíndromos se ignorarmos espaços e pontuação.\n",
    "\n",
    "(a) Escreva uma função chamada is_palindrome, que recebe uma string como argumento e retorna um valor booleano (True se for palíndromo e False caso contrário).\n",
    "(b) Ignore espaços e capitalização ao avaliar se a string é um palíndromo. Por exemplo, ”tacocat” e ”T A C O cat” devem ser considerados palíndromos"
   ]
  },
  {
   "cell_type": "code",
   "execution_count": 29,
   "id": "3f844bd1-a2ec-4ddc-a534-c02cc1e8b9f8",
   "metadata": {},
   "outputs": [
    {
     "name": "stdout",
     "output_type": "stream",
     "text": [
      "True\n"
     ]
    }
   ],
   "source": [
    "def is_palindrome(s):\n",
    "    s = s.replace(\" \",\"\").lower()\n",
    "    inverso = s[::-1]\n",
    "    if s == inverso:\n",
    "        return True\n",
    "    else:\n",
    "        return False\n",
    "\n",
    "print(is_palindrome(\"Raphael Leahpar\"))"
   ]
  },
  {
   "cell_type": "markdown",
   "id": "1b9e64b7-ea28-463f-a424-78da73a76d07",
   "metadata": {},
   "source": [
    "2) Palavras abecedárias: Uma palavra é ”abecedária” se suas letras aparecem em ordem alfabética. Exemplo: ”adder” e ”beet” são abecedárias, enquanto ”dog” e ”cat” não são.\n",
    "(a) Escreva uma função chamada is_abecedarian que receba uma string e retorne True se a string for abecedária e False caso contrário. Ignore espaços e capitalização"
   ]
  },
  {
   "cell_type": "code",
   "execution_count": 71,
   "id": "1b8cd5fc-9707-42c5-8094-8c0c96f52705",
   "metadata": {},
   "outputs": [
    {
     "data": {
      "text/plain": [
       "True"
      ]
     },
     "execution_count": 71,
     "metadata": {},
     "output_type": "execute_result"
    }
   ],
   "source": [
    "def is_abecedarian(s):\n",
    "    if s.isalpha():\n",
    "        if s == ''.join(sorted(s)):\n",
    "            return True\n",
    "        else:\n",
    "            return False\n",
    "    else:\n",
    "        print(\"Não possuí apenas letras\")\n",
    "        return False\n",
    "\n",
    "is_abecedarian(\"acd\")"
   ]
  },
  {
   "cell_type": "markdown",
   "id": "d19783b1-d2c7-479d-970a-efdf291d065d",
   "metadata": {},
   "source": [
    "(b) Remover vogais: Escreva uma função chamada remove_vowels que receba uma string e retorne a string sem vogais. As vogais incluem: a, e, i, o, u (maiúsculas e minúsculas).\n",
    "(i) Exemplo:\n",
    "(A) remove_vowels(’cat?’) -> ct?\n",
    "(B) remove_vowels(’goAT!’) -> gT!\n",
    "(C) Não use métodos embutidos como str.replace."
   ]
  },
  {
   "cell_type": "code",
   "execution_count": 99,
   "id": "73e7b3c7-25a6-4b45-988a-370ead698d55",
   "metadata": {},
   "outputs": [
    {
     "name": "stdout",
     "output_type": "stream",
     "text": [
      "gT!\n"
     ]
    }
   ],
   "source": [
    "def remove_vowels(s):\n",
    "    vowels = \"aeiouAEIOU\"\n",
    "    resultado = \"\"\n",
    "    \n",
    "    for char in s:\n",
    "        if char not in vowels:\n",
    "            resultado += char\n",
    "    return resultado\n",
    "    \n",
    "print(remove_vowels(\"goAT!\"))"
   ]
  },
  {
   "cell_type": "markdown",
   "id": "d03f4c92-eab3-4188-a670-e0435b480c68",
   "metadata": {},
   "source": [
    "**Questão 2. Diversão com Listas**\n",
    "\n",
    "Nesta tarefa, você implementará operações simples com listas.\n",
    "1) Reverso de uma lista: Escreva a função list_reverse, que recebe uma lista e retorna uma nova lista com os elementos em ordem reversa.\n",
    "(a) Exemplo:\n",
    "(i) list_reverse([1, 2, 3]) -> [3, 2, 1]\n",
    "(ii) Se a entrada não for uma lista, apresente uma mensagem de erro apropriado."
   ]
  },
  {
   "cell_type": "code",
   "execution_count": 141,
   "id": "c383a149-7789-4bf8-b220-5f221ea44526",
   "metadata": {},
   "outputs": [
    {
     "name": "stdout",
     "output_type": "stream",
     "text": [
      "[3, 2, 1]\n"
     ]
    }
   ],
   "source": [
    "def list_reverse(s):\n",
    "    if isinstance(s, list):\n",
    "        s = s[::-1]\n",
    "        return s\n",
    "    else:\n",
    "        return \"Não é uma lista!\"\n",
    "\n",
    "print(list_reverse([1, 2, 3]))"
   ]
  },
  {
   "cell_type": "markdown",
   "id": "8fa0ceef-19ea-43d7-9324-9c8c837320f4",
   "metadata": {},
   "source": [
    "2) Verificar ordenação: Escreva a função is_sorted, que recebe uma sequência e retorna True se a sequência estiver em ordem não decrescente e False caso contrário.\n",
    "\n",
    "(a) A solução deve usar apenas uma passagem pela lista para verificar a ordenação"
   ]
  },
  {
   "cell_type": "code",
   "execution_count": 7,
   "id": "53b23991-3c71-47dc-a5c9-2084d4a252aa",
   "metadata": {},
   "outputs": [
    {
     "name": "stdout",
     "output_type": "stream",
     "text": [
      "False\n"
     ]
    }
   ],
   "source": [
    "def is_sorted(s):\n",
    "    ordenacao = sorted(s)\n",
    "    ordenacao = ordenacao[::-1]\n",
    "    if ordenacao == s:\n",
    "        return False\n",
    "    else:\n",
    "        return True\n",
    "\n",
    "print(is_sorted([3, 2, 1]))"
   ]
  },
  {
   "cell_type": "markdown",
   "id": "13ee8618-e458-4024-96b6-3ffa7b999279",
   "metadata": {},
   "source": [
    "3) Busca binária: Escreva a função binary_search, que recebe uma lista ordenada e um elemento, e retorna True se o elemento estiver presente na lista e False caso contrário.\n",
    "   \n",
    "• Implemente a busca binária sem usar funções embutidas como in.\n",
    "• Considere cuidadosamente os casos base: listas vazias, de comprimento 1, etc."
   ]
  },
  {
   "cell_type": "code",
   "execution_count": 37,
   "id": "d5a01028-bda1-4eb2-80e5-5bf44d7400c8",
   "metadata": {},
   "outputs": [
    {
     "name": "stdout",
     "output_type": "stream",
     "text": [
      "False\n"
     ]
    }
   ],
   "source": [
    "def binary_search(l, s):\n",
    "    i = 0\n",
    "    n = len(l)\n",
    "\n",
    "    while i < n:\n",
    "        meio = (i + n) // 2\n",
    "\n",
    "        if l[meio] == s:\n",
    "            return True\n",
    "        elif l[meio] < s:\n",
    "            i = meio + 1\n",
    "        else:\n",
    "            n = meio\n",
    "\n",
    "    return False\n",
    "\n",
    "l = [1, 2, 3, 4, 5]\n",
    "print(binary_search(l, 6))"
   ]
  },
  {
   "cell_type": "markdown",
   "id": "64075f00-0101-4fef-9ba9-9e81564be0c2",
   "metadata": {},
   "source": [
    "**Questão 3. Mais diversão com Strings**\n",
    "\n",
    "1) Histograma de caracteres: Escreva a função char_hist, que recebe uma string e retorna um dicionário onde as chaves são caracteres e os valores são o número de vezes que cada caractere aparece. Ignore maiúsculas e minúsculas, e trate ’G’ e ’g’ como o mesmo caractere.\n"
   ]
  },
  {
   "cell_type": "code",
   "execution_count": 39,
   "id": "8447da09-24c2-4b0b-9290-df61867ba0f4",
   "metadata": {},
   "outputs": [
    {
     "name": "stdout",
     "output_type": "stream",
     "text": [
      "{'e': 6, 'x': 1, 'm': 2, 'p': 1, 'l': 1, 'o': 2, ' ': 4, 'd': 2, 'h': 1, 'i': 1, 's': 2, 't': 2, 'g': 1, 'r': 3, 'a': 4, 'c': 2}\n"
     ]
    }
   ],
   "source": [
    "def char_hist(t):\n",
    "    t = t.lower()\n",
    "    dicionario = {}\n",
    "\n",
    "    for char in t:\n",
    "        if char in dicionario:\n",
    "            dicionario[char] += 1\n",
    "        else:\n",
    "            dicionario[char] = 1\n",
    "    return dicionario\n",
    "\n",
    "print(char_hist(\"Exemplo de Histograma de Caracteres\"))"
   ]
  },
  {
   "cell_type": "markdown",
   "id": "6c9cce4c-8592-4b45-9ec4-eda2fd41615b",
   "metadata": {},
   "source": [
    "2) Histograma de bigramas: Um bigrama é um par de caracteres consecutivos. Escreva a função bigram_hist que recebe uma string e retorna um dicionário com bigramas como chaves e o número de ocorrências como valores"
   ]
  },
  {
   "cell_type": "code",
   "execution_count": 43,
   "id": "39d589d8-6603-48cb-99fd-8fd9f968c585",
   "metadata": {},
   "outputs": [
    {
     "name": "stdout",
     "output_type": "stream",
     "text": [
      "{'ex': 1, 'xe': 1, 'em': 1, 'mp': 1, 'pl': 1, 'lo': 1, 'od': 1, 'de': 2, 'eh': 1, 'hi': 1, 'is': 1, 'st': 1, 'to': 1, 'og': 1, 'gr': 2, 'ra': 2, 'am': 2, 'ma': 2, 'ad': 1, 'eb': 1, 'bi': 1, 'ig': 1, 'as': 1}\n"
     ]
    }
   ],
   "source": [
    "def bigram_hist(t):\n",
    "    t = t.lower().replace(\" \", \"\")\n",
    "    dicionario = {}\n",
    "\n",
    "    for i in range(len(t) - 1):\n",
    "        bigram = t[i:i+2]\n",
    "\n",
    "        if bigram in dicionario:\n",
    "            dicionario[bigram] += 1\n",
    "        else:\n",
    "            dicionario[bigram] = 1\n",
    "\n",
    "    return dicionario\n",
    "\n",
    "print(bigram_hist(\"Exemplo de Histograma de Bigramas\"))"
   ]
  },
  {
   "cell_type": "markdown",
   "id": "81b563ec-5ca2-488b-bf38-d911d07ee87e",
   "metadata": {},
   "source": [
    "**Questão 4. Tuplas como Vetores**\n",
    "\n",
    "1) Multiplicação escalar: Escreva a função vec_scalar_mult, que realiza a multiplicação de uma tupla por um número escalar.\n",
    "(a) Verifique se os tipos dos argumentos são válidos, levantando um erro apropriado se não forem."
   ]
  },
  {
   "cell_type": "code",
   "execution_count": 63,
   "id": "119d2081-9b56-4896-b432-a9b0b221a2b1",
   "metadata": {},
   "outputs": [
    {
     "name": "stdout",
     "output_type": "stream",
     "text": [
      "(-9, -18, -27, -36, -45)\n"
     ]
    }
   ],
   "source": [
    "def vec_scalar_mult(vetor, escalar):\n",
    "    if not isinstance(vetor, tuple):\n",
    "        return False\n",
    "    if not all(isinstance(x, (int, float)) for x in vetor):\n",
    "        return False\n",
    "    if not isinstance(escalar, (int, float)):\n",
    "        return False\n",
    "\n",
    "    return tuple(x * escalar for x in vetor)\n",
    "\n",
    "resultado = vec_scalar_mult((1, 2, 3, 4, 5), -9)\n",
    "\n",
    "if resultado == False:\n",
    "    print(\"Erro: Algum dos termos não é um número!\")\n",
    "else:\n",
    "    print(resultado)"
   ]
  },
  {
   "cell_type": "markdown",
   "id": "5f705c3a-fa57-4a46-86bc-a38d2084ca7c",
   "metadata": {},
   "source": [
    "2) Produto interno: Escreva a função vec_inner_product que calcula o produto interno de dois vetores representados por tuplas."
   ]
  },
  {
   "cell_type": "code",
   "execution_count": 71,
   "id": "d32e760c-d34b-43ae-b460-f128ddf7e1ae",
   "metadata": {},
   "outputs": [
    {
     "name": "stdout",
     "output_type": "stream",
     "text": [
      "32\n"
     ]
    }
   ],
   "source": [
    "def vec_inner_product(vet_a, vet_b):\n",
    "    if len(vet_a) != len(vet_b):\n",
    "        return False\n",
    "    else:\n",
    "        i = 0\n",
    "        resultado = 0\n",
    "        while  i < len(vet_a):\n",
    "            mult = vet_a[i] * vet_b[i]\n",
    "            resultado += mult\n",
    "            i += 1\n",
    "        return resultado\n",
    "\n",
    "print(vec_inner_product((1, 2, 3), (4, 5, 6)))"
   ]
  },
  {
   "cell_type": "markdown",
   "id": "c1690b5d-652b-49e6-b8c5-c54bf3d2f30c",
   "metadata": {},
   "source": [
    "3) Matriz válida: Escreva a função check_valid_mx, que verifica se um argumento é uma matriz válida representada por uma tupla de tuplas."
   ]
  },
  {
   "cell_type": "code",
   "execution_count": 95,
   "id": "1b8c0ad3-2b7d-4ddb-9027-ca02f1a3ffdf",
   "metadata": {},
   "outputs": [
    {
     "name": "stdout",
     "output_type": "stream",
     "text": [
      "False\n"
     ]
    }
   ],
   "source": [
    "def check_valid_mx(m):\n",
    "\n",
    "    if not isinstance(m, tuple):\n",
    "        return False\n",
    "    if len(m) == 0:\n",
    "        return False\n",
    "    if not all(isinstance(linha, tuple) for linha in m):\n",
    "        return False\n",
    "    \n",
    "    n_colunas = len(m[0])\n",
    "\n",
    "    if not all(len(linha) == n_colunas for linha in m):\n",
    "        return False\n",
    "\n",
    "    if not all(all(isinstance(elemento, (int, float)) for elemento in linha) for linha in m):\n",
    "        return False\n",
    "\n",
    "    return True\n",
    "\n",
    "m = (\n",
    "    (1, 2, \"3\"),\n",
    "    (4, 5, 6),\n",
    "    (7, 8, 9)\n",
    ")\n",
    "\n",
    "print(check_valid_mx(m))"
   ]
  },
  {
   "cell_type": "markdown",
   "id": "674085f5-af8f-4592-b7bd-51fb1b57d8ce",
   "metadata": {},
   "source": [
    "4) Multiplicação matrizvetor: Escreva a função mx_vec_mult, que realiza a multiplicação de uma matriz por um vetor"
   ]
  },
  {
   "cell_type": "code",
   "execution_count": 99,
   "id": "dd2832c4-1149-4464-8b9f-9b0b30f863f8",
   "metadata": {},
   "outputs": [
    {
     "name": "stdout",
     "output_type": "stream",
     "text": [
      "(14, 32, 50)\n"
     ]
    }
   ],
   "source": [
    "def mx_vec_mult(matriz, vetor):\n",
    "    if not check_valid_mx(matriz):\n",
    "        return False\n",
    "    if not isinstance(vetor, tuple):\n",
    "        return False\n",
    "    if not all(isinstance(x, (int, float)) for x in vetor):\n",
    "        return False\n",
    "    if len(matriz[0]) != len(vetor):\n",
    "        return False\n",
    "\n",
    "    resultado = tuple(sum(a * b for a, b in zip(linha, vetor)) for linha in matriz)\n",
    "\n",
    "    return resultado\n",
    "\n",
    "matriz = (\n",
    "    (1, 2, 3),\n",
    "    (4, 5, 6),\n",
    "    (7, 8, 9)\n",
    ")\n",
    "\n",
    "vetor = (1, 2, 3)\n",
    "\n",
    "print(mx_vec_mult(matriz, vetor))"
   ]
  },
  {
   "cell_type": "markdown",
   "id": "f1845b74-b2f1-40c2-8896-e9926cbb4594",
   "metadata": {},
   "source": [
    "**Questão 5. Mais diversão com Vetores**\n",
    "\n",
    "1) Vetores esparsos: Escreva a função is_valid_sparse_vector que verifica se uma entrada é um vetor esparso válido (dicionário com chaves inteiras não negativas e valores numéricos)."
   ]
  },
  {
   "cell_type": "code",
   "execution_count": 115,
   "id": "feebbd26-35dc-432f-aea6-f546da96eda6",
   "metadata": {},
   "outputs": [
    {
     "name": "stdout",
     "output_type": "stream",
     "text": [
      "True\n"
     ]
    }
   ],
   "source": [
    "def is_valid_sparse_vector(v):\n",
    "    if not isinstance(v, dict):\n",
    "        return False\n",
    "    if not all(isinstance(indice, int) and indice >= 0 for indice in v.keys()):\n",
    "        return False\n",
    "    if not all(isinstance(vetor, (int, float)) for vetor in v.values()):\n",
    "        return False\n",
    "\n",
    "    return True\n",
    "\n",
    "print(is_valid_sparse_vector({0: 4, 2: -1, 5: 2.5}))"
   ]
  },
  {
   "cell_type": "markdown",
   "id": "20a00241-1d08-4b3e-ac75-d55d2c8922a6",
   "metadata": {},
   "source": [
    "2) Produto interno esparso: Escreva a função sparse_inner_product que calcula o produto interno de dois vetores esparsos."
   ]
  },
  {
   "cell_type": "code",
   "execution_count": 123,
   "id": "b23f9ecd-b59f-4eb9-ac72-8a999095d65e",
   "metadata": {},
   "outputs": [
    {
     "name": "stdout",
     "output_type": "stream",
     "text": [
      "38.75\n"
     ]
    }
   ],
   "source": [
    "def sparse_inner_product(v1, v2):\n",
    "    if not is_valid_sparse_vector(v1) or not is_valid_sparse_vector(v2):\n",
    "        return False\n",
    "    \n",
    "    indices_em_comum = set(v1.keys()) & set(v2.keys())\n",
    "\n",
    "    produto_interno = sum(v1[i] * v2[i] for i in indices_em_comum)\n",
    "    return produto_interno\n",
    "\n",
    "print(sparse_inner_product({0: 4, 2: -1, 5: 2.5}, {0: 7, 2: -2, 5: 3.5}))"
   ]
  }
 ],
 "metadata": {
  "kernelspec": {
   "display_name": "Python [conda env:base] *",
   "language": "python",
   "name": "conda-base-py"
  },
  "language_info": {
   "codemirror_mode": {
    "name": "ipython",
    "version": 3
   },
   "file_extension": ".py",
   "mimetype": "text/x-python",
   "name": "python",
   "nbconvert_exporter": "python",
   "pygments_lexer": "ipython3",
   "version": "3.12.7"
  }
 },
 "nbformat": 4,
 "nbformat_minor": 5
}
